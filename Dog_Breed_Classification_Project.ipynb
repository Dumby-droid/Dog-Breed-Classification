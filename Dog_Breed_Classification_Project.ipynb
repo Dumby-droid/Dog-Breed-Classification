{
  "cells": [
    {
      "cell_type": "markdown",
      "metadata": {
        "id": "view-in-github",
        "colab_type": "text"
      },
      "source": [
        "<a href=\"https://colab.research.google.com/github/Dumby-droid/Dog-Breed-Classification/blob/main/Dog_Breed_Classification_Project.ipynb\" target=\"_parent\"><img src=\"https://colab.research.google.com/assets/colab-badge.svg\" alt=\"Open In Colab\"/></a>"
      ]
    },
    {
      "cell_type": "code",
      "source": [
        "!pip install lime"
      ],
      "metadata": {
        "colab": {
          "base_uri": "https://localhost:8080/"
        },
        "id": "_GyxPcGOUDef",
        "outputId": "a172cd40-368c-43fc-9174-9025d1db15da"
      },
      "execution_count": null,
      "outputs": [
        {
          "output_type": "stream",
          "name": "stdout",
          "text": [
            "Collecting lime\n",
            "  Downloading lime-0.2.0.1.tar.gz (275 kB)\n",
            "\u001b[2K     \u001b[90m━━━━━━━━━━━━━━━━━━━━━━━━━━━━━━━━━━━━━━━━\u001b[0m \u001b[32m275.7/275.7 kB\u001b[0m \u001b[31m2.9 MB/s\u001b[0m eta \u001b[36m0:00:00\u001b[0m\n",
            "\u001b[?25h  Preparing metadata (setup.py) ... \u001b[?25l\u001b[?25hdone\n",
            "Requirement already satisfied: matplotlib in /usr/local/lib/python3.10/dist-packages (from lime) (3.7.1)\n",
            "Requirement already satisfied: numpy in /usr/local/lib/python3.10/dist-packages (from lime) (1.23.5)\n",
            "Requirement already satisfied: scipy in /usr/local/lib/python3.10/dist-packages (from lime) (1.11.4)\n",
            "Requirement already satisfied: tqdm in /usr/local/lib/python3.10/dist-packages (from lime) (4.66.1)\n",
            "Requirement already satisfied: scikit-learn>=0.18 in /usr/local/lib/python3.10/dist-packages (from lime) (1.2.2)\n",
            "Requirement already satisfied: scikit-image>=0.12 in /usr/local/lib/python3.10/dist-packages (from lime) (0.19.3)\n",
            "Requirement already satisfied: networkx>=2.2 in /usr/local/lib/python3.10/dist-packages (from scikit-image>=0.12->lime) (3.2.1)\n",
            "Requirement already satisfied: pillow!=7.1.0,!=7.1.1,!=8.3.0,>=6.1.0 in /usr/local/lib/python3.10/dist-packages (from scikit-image>=0.12->lime) (9.4.0)\n",
            "Requirement already satisfied: imageio>=2.4.1 in /usr/local/lib/python3.10/dist-packages (from scikit-image>=0.12->lime) (2.31.6)\n",
            "Requirement already satisfied: tifffile>=2019.7.26 in /usr/local/lib/python3.10/dist-packages (from scikit-image>=0.12->lime) (2023.12.9)\n",
            "Requirement already satisfied: PyWavelets>=1.1.1 in /usr/local/lib/python3.10/dist-packages (from scikit-image>=0.12->lime) (1.5.0)\n",
            "Requirement already satisfied: packaging>=20.0 in /usr/local/lib/python3.10/dist-packages (from scikit-image>=0.12->lime) (23.2)\n",
            "Requirement already satisfied: joblib>=1.1.1 in /usr/local/lib/python3.10/dist-packages (from scikit-learn>=0.18->lime) (1.3.2)\n",
            "Requirement already satisfied: threadpoolctl>=2.0.0 in /usr/local/lib/python3.10/dist-packages (from scikit-learn>=0.18->lime) (3.2.0)\n",
            "Requirement already satisfied: contourpy>=1.0.1 in /usr/local/lib/python3.10/dist-packages (from matplotlib->lime) (1.2.0)\n",
            "Requirement already satisfied: cycler>=0.10 in /usr/local/lib/python3.10/dist-packages (from matplotlib->lime) (0.12.1)\n",
            "Requirement already satisfied: fonttools>=4.22.0 in /usr/local/lib/python3.10/dist-packages (from matplotlib->lime) (4.47.2)\n",
            "Requirement already satisfied: kiwisolver>=1.0.1 in /usr/local/lib/python3.10/dist-packages (from matplotlib->lime) (1.4.5)\n",
            "Requirement already satisfied: pyparsing>=2.3.1 in /usr/local/lib/python3.10/dist-packages (from matplotlib->lime) (3.1.1)\n",
            "Requirement already satisfied: python-dateutil>=2.7 in /usr/local/lib/python3.10/dist-packages (from matplotlib->lime) (2.8.2)\n",
            "Requirement already satisfied: six>=1.5 in /usr/local/lib/python3.10/dist-packages (from python-dateutil>=2.7->matplotlib->lime) (1.16.0)\n",
            "Building wheels for collected packages: lime\n",
            "  Building wheel for lime (setup.py) ... \u001b[?25l\u001b[?25hdone\n",
            "  Created wheel for lime: filename=lime-0.2.0.1-py3-none-any.whl size=283835 sha256=3bad564ac36311e5eef51e26c134a88af3def65d3cc757f2f4cb98dc3e951541\n",
            "  Stored in directory: /root/.cache/pip/wheels/fd/a2/af/9ac0a1a85a27f314a06b39e1f492bee1547d52549a4606ed89\n",
            "Successfully built lime\n",
            "Installing collected packages: lime\n",
            "Successfully installed lime-0.2.0.1\n"
          ]
        }
      ]
    },
    {
      "cell_type": "code",
      "execution_count": null,
      "metadata": {
        "id": "hEp18TRC2kZr"
      },
      "outputs": [],
      "source": [
        "import os\n",
        "from lime import lime_image\n",
        "from lime.wrappers.scikit_image import SegmentationAlgorithm\n",
        "import numpy as np\n",
        "import tensorflow as tf\n",
        "from google.colab import drive\n",
        "from tensorflow.keras.preprocessing.image import ImageDataGenerator\n",
        "from tensorflow.keras.models import Sequential\n",
        "from tensorflow.keras.layers import Conv2D, MaxPooling2D, Flatten, Dense, Dropout\n",
        "from tensorflow.keras.applications.mobilenet_v2 import MobileNetV2, preprocess_input\n",
        "from tensorflow.keras import layers, models"
      ]
    },
    {
      "cell_type": "markdown",
      "metadata": {
        "id": "QwP63LX83_lW"
      },
      "source": [
        "## 2. Data Understanding"
      ]
    },
    {
      "cell_type": "code",
      "execution_count": null,
      "metadata": {
        "id": "8v2-yvko33pI",
        "colab": {
          "base_uri": "https://localhost:8080/"
        },
        "outputId": "a1400a04-16c1-4ba5-9b23-bf0449230c6d"
      },
      "outputs": [
        {
          "output_type": "stream",
          "name": "stdout",
          "text": [
            "Found GPU at: /device:GPU:0\n"
          ]
        }
      ],
      "source": [
        "device_name     = tf.test.gpu_device_name()\n",
        "\n",
        "if device_name != '/device:GPU:0':\n",
        "  raise SystemError('GPU device not found')\n",
        "\n",
        "print('Found GPU at: {}'.format(device_name))"
      ]
    },
    {
      "cell_type": "code",
      "execution_count": null,
      "metadata": {
        "id": "NHp7dWwH4JXi",
        "colab": {
          "base_uri": "https://localhost:8080/"
        },
        "outputId": "1654314d-9b0c-46e7-fb00-f216a5ec9016"
      },
      "outputs": [
        {
          "output_type": "stream",
          "name": "stdout",
          "text": [
            "Mounted at /content/drive\n"
          ]
        }
      ],
      "source": [
        "from google.colab import drive\n",
        "drive.mount('/content/drive')"
      ]
    },
    {
      "cell_type": "code",
      "execution_count": null,
      "metadata": {
        "id": "--0JHDsC4ObL"
      },
      "outputs": [],
      "source": [
        "train_dir='/content/drive/MyDrive/Dog Breed Classification/Train'\n",
        "test_dir='/content/drive/MyDrive/Dog Breed Classification/Test'"
      ]
    },
    {
      "cell_type": "markdown",
      "metadata": {
        "id": "4pIoNWgVraTZ"
      },
      "source": [
        "## 3. Data Preprocessing\n",
        "\n"
      ]
    },
    {
      "cell_type": "code",
      "source": [
        "IMG_SIZE = (224, 224)\n",
        "BATCH_SIZE = 32"
      ],
      "metadata": {
        "id": "dPSsPfxDdQWx"
      },
      "execution_count": null,
      "outputs": []
    },
    {
      "cell_type": "code",
      "execution_count": null,
      "metadata": {
        "id": "hunxr7ueAytE"
      },
      "outputs": [],
      "source": [
        "train_datagen = ImageDataGenerator(\n",
        "    rotation_range=20,\n",
        "    width_shift_range=0.2,\n",
        "    height_shift_range=0.2,\n",
        "    shear_range=0.2,\n",
        "    zoom_range=0.2,\n",
        "    horizontal_flip=True,\n",
        "    fill_mode='nearest',\n",
        "    preprocessing_function=preprocess_input\n",
        ")\n",
        "\n",
        "test_datagen = ImageDataGenerator(\n",
        "    rotation_range=20,\n",
        "    width_shift_range=0.2,\n",
        "    height_shift_range=0.2,\n",
        "    shear_range=0.2,\n",
        "    zoom_range=0.2,\n",
        "    horizontal_flip=True,\n",
        "    fill_mode='nearest',\n",
        "    preprocessing_function=preprocess_input\n",
        ")"
      ]
    },
    {
      "cell_type": "code",
      "source": [
        "train_set = train_datagen.flow_from_directory(\n",
        "    train_dir,\n",
        "    target_size=IMG_SIZE,\n",
        "    batch_size=BATCH_SIZE,\n",
        "    class_mode='categorical',\n",
        "    shuffle = True\n",
        ")\n",
        "\n",
        "test_set = test_datagen.flow_from_directory(\n",
        "    test_dir,\n",
        "    target_size=IMG_SIZE,\n",
        "    batch_size=BATCH_SIZE,\n",
        "    class_mode='categorical',\n",
        "    shuffle = False\n",
        ")"
      ],
      "metadata": {
        "colab": {
          "base_uri": "https://localhost:8080/"
        },
        "id": "MgBw7u2bdVnB",
        "outputId": "f1d18600-5365-4871-ebb5-abe1cfc437b4"
      },
      "execution_count": null,
      "outputs": [
        {
          "output_type": "stream",
          "name": "stdout",
          "text": [
            "Found 76 images belonging to 13 classes.\n",
            "Found 65 images belonging to 13 classes.\n"
          ]
        }
      ]
    },
    {
      "cell_type": "markdown",
      "metadata": {
        "id": "R1svcIvwwAw-"
      },
      "source": [
        "## 4. Modeling"
      ]
    },
    {
      "cell_type": "code",
      "source": [
        "base_model = MobileNetV2(weights='imagenet', include_top=False, input_shape=(224, 224, 3))\n",
        "base_model.trainable = False"
      ],
      "metadata": {
        "id": "niRlJ443dZsJ",
        "colab": {
          "base_uri": "https://localhost:8080/"
        },
        "outputId": "56abd49e-085d-4a9b-cd87-2832b9b6bf33"
      },
      "execution_count": null,
      "outputs": [
        {
          "output_type": "stream",
          "name": "stdout",
          "text": [
            "Downloading data from https://storage.googleapis.com/tensorflow/keras-applications/mobilenet_v2/mobilenet_v2_weights_tf_dim_ordering_tf_kernels_1.0_224_no_top.h5\n",
            "9406464/9406464 [==============================] - 1s 0us/step\n"
          ]
        }
      ]
    },
    {
      "cell_type": "code",
      "execution_count": null,
      "metadata": {
        "id": "5IbsfSPFC29x"
      },
      "outputs": [],
      "source": [
        "model = models.Sequential([\n",
        "    base_model,\n",
        "    layers.GlobalAveragePooling2D(),\n",
        "    layers.Dense(256, activation='relu'),\n",
        "    layers.Dropout(0.5),\n",
        "    layers.Dense(train_set.num_classes, activation='softmax')\n",
        "])"
      ]
    },
    {
      "cell_type": "code",
      "execution_count": null,
      "metadata": {
        "id": "ZP3kxChcxNm9"
      },
      "outputs": [],
      "source": [
        "model.compile(optimizer='adam', loss='categorical_crossentropy', metrics=['accuracy'])"
      ]
    },
    {
      "cell_type": "code",
      "execution_count": null,
      "metadata": {
        "id": "c7gLF_1R0OxN",
        "colab": {
          "base_uri": "https://localhost:8080/"
        },
        "outputId": "d64bd9e5-cfca-44c1-9487-17555f48ca2f"
      },
      "outputs": [
        {
          "output_type": "stream",
          "name": "stdout",
          "text": [
            "Model: \"sequential\"\n",
            "_________________________________________________________________\n",
            " Layer (type)                Output Shape              Param #   \n",
            "=================================================================\n",
            " mobilenetv2_1.00_224 (Func  (None, 7, 7, 1280)        2257984   \n",
            " tional)                                                         \n",
            "                                                                 \n",
            " global_average_pooling2d (  (None, 1280)              0         \n",
            " GlobalAveragePooling2D)                                         \n",
            "                                                                 \n",
            " dense (Dense)               (None, 256)               327936    \n",
            "                                                                 \n",
            " dropout (Dropout)           (None, 256)               0         \n",
            "                                                                 \n",
            " dense_1 (Dense)             (None, 13)                3341      \n",
            "                                                                 \n",
            "=================================================================\n",
            "Total params: 2589261 (9.88 MB)\n",
            "Trainable params: 331277 (1.26 MB)\n",
            "Non-trainable params: 2257984 (8.61 MB)\n",
            "_________________________________________________________________\n"
          ]
        }
      ],
      "source": [
        "model.summary()"
      ]
    },
    {
      "cell_type": "code",
      "source": [
        "model.fit(train_set,\n",
        "          epochs=100,\n",
        "          verbose=2,\n",
        "          shuffle = False)"
      ],
      "metadata": {
        "colab": {
          "base_uri": "https://localhost:8080/"
        },
        "id": "Yuv3F9MvW8fq",
        "outputId": "e5e7d070-337f-4c54-e40c-86c433eeb668"
      },
      "execution_count": null,
      "outputs": [
        {
          "output_type": "stream",
          "name": "stderr",
          "text": [
            "/usr/local/lib/python3.10/dist-packages/PIL/Image.py:996: UserWarning: Palette images with Transparency expressed in bytes should be converted to RGBA images\n",
            "  warnings.warn(\n"
          ]
        },
        {
          "output_type": "stream",
          "name": "stdout",
          "text": [
            "Epoch 1/100\n",
            "3/3 - 43s - loss: 3.1735 - accuracy: 0.0789 - 43s/epoch - 14s/step\n",
            "Epoch 2/100\n",
            "3/3 - 2s - loss: 1.5797 - accuracy: 0.5132 - 2s/epoch - 739ms/step\n",
            "Epoch 3/100\n",
            "3/3 - 3s - loss: 0.9694 - accuracy: 0.8158 - 3s/epoch - 952ms/step\n",
            "Epoch 4/100\n",
            "3/3 - 2s - loss: 0.6033 - accuracy: 0.8553 - 2s/epoch - 761ms/step\n",
            "Epoch 5/100\n",
            "3/3 - 2s - loss: 0.3163 - accuracy: 0.9605 - 2s/epoch - 759ms/step\n",
            "Epoch 6/100\n",
            "3/3 - 2s - loss: 0.1976 - accuracy: 0.9605 - 2s/epoch - 731ms/step\n",
            "Epoch 7/100\n",
            "3/3 - 3s - loss: 0.1705 - accuracy: 0.9605 - 3s/epoch - 926ms/step\n",
            "Epoch 8/100\n",
            "3/3 - 3s - loss: 0.1360 - accuracy: 0.9737 - 3s/epoch - 902ms/step\n",
            "Epoch 9/100\n",
            "3/3 - 3s - loss: 0.0921 - accuracy: 0.9868 - 3s/epoch - 883ms/step\n",
            "Epoch 10/100\n",
            "3/3 - 2s - loss: 0.0692 - accuracy: 0.9868 - 2s/epoch - 728ms/step\n",
            "Epoch 11/100\n",
            "3/3 - 3s - loss: 0.0962 - accuracy: 0.9737 - 3s/epoch - 944ms/step\n",
            "Epoch 12/100\n",
            "3/3 - 3s - loss: 0.0457 - accuracy: 0.9868 - 3s/epoch - 891ms/step\n",
            "Epoch 13/100\n",
            "3/3 - 2s - loss: 0.0480 - accuracy: 0.9868 - 2s/epoch - 746ms/step\n",
            "Epoch 14/100\n",
            "3/3 - 2s - loss: 0.0225 - accuracy: 1.0000 - 2s/epoch - 767ms/step\n",
            "Epoch 15/100\n",
            "3/3 - 2s - loss: 0.0223 - accuracy: 1.0000 - 2s/epoch - 734ms/step\n",
            "Epoch 16/100\n",
            "3/3 - 3s - loss: 0.0962 - accuracy: 0.9474 - 3s/epoch - 853ms/step\n",
            "Epoch 17/100\n",
            "3/3 - 3s - loss: 0.0392 - accuracy: 0.9868 - 3s/epoch - 972ms/step\n",
            "Epoch 18/100\n",
            "3/3 - 2s - loss: 0.0225 - accuracy: 1.0000 - 2s/epoch - 743ms/step\n",
            "Epoch 19/100\n",
            "3/3 - 2s - loss: 0.0268 - accuracy: 1.0000 - 2s/epoch - 760ms/step\n",
            "Epoch 20/100\n",
            "3/3 - 2s - loss: 0.0095 - accuracy: 1.0000 - 2s/epoch - 739ms/step\n",
            "Epoch 21/100\n",
            "3/3 - 2s - loss: 0.0427 - accuracy: 0.9868 - 2s/epoch - 744ms/step\n",
            "Epoch 22/100\n",
            "3/3 - 4s - loss: 0.0182 - accuracy: 1.0000 - 4s/epoch - 1s/step\n",
            "Epoch 23/100\n",
            "3/3 - 2s - loss: 0.0559 - accuracy: 0.9868 - 2s/epoch - 745ms/step\n",
            "Epoch 24/100\n",
            "3/3 - 2s - loss: 0.0292 - accuracy: 0.9868 - 2s/epoch - 752ms/step\n",
            "Epoch 25/100\n",
            "3/3 - 2s - loss: 0.0218 - accuracy: 0.9868 - 2s/epoch - 741ms/step\n",
            "Epoch 26/100\n",
            "3/3 - 3s - loss: 0.0114 - accuracy: 1.0000 - 3s/epoch - 879ms/step\n",
            "Epoch 27/100\n",
            "3/3 - 3s - loss: 0.0105 - accuracy: 1.0000 - 3s/epoch - 923ms/step\n",
            "Epoch 28/100\n",
            "3/3 - 2s - loss: 0.0096 - accuracy: 1.0000 - 2s/epoch - 752ms/step\n",
            "Epoch 29/100\n",
            "3/3 - 2s - loss: 0.0187 - accuracy: 1.0000 - 2s/epoch - 763ms/step\n",
            "Epoch 30/100\n",
            "3/3 - 2s - loss: 0.0042 - accuracy: 1.0000 - 2s/epoch - 754ms/step\n",
            "Epoch 31/100\n",
            "3/3 - 3s - loss: 0.0085 - accuracy: 1.0000 - 3s/epoch - 853ms/step\n",
            "Epoch 32/100\n",
            "3/3 - 2s - loss: 0.0027 - accuracy: 1.0000 - 2s/epoch - 754ms/step\n",
            "Epoch 33/100\n",
            "3/3 - 3s - loss: 0.0131 - accuracy: 1.0000 - 3s/epoch - 1s/step\n",
            "Epoch 34/100\n",
            "3/3 - 3s - loss: 0.0078 - accuracy: 1.0000 - 3s/epoch - 925ms/step\n",
            "Epoch 35/100\n",
            "3/3 - 3s - loss: 0.0077 - accuracy: 1.0000 - 3s/epoch - 929ms/step\n",
            "Epoch 36/100\n",
            "3/3 - 3s - loss: 0.0178 - accuracy: 0.9868 - 3s/epoch - 1s/step\n",
            "Epoch 37/100\n",
            "3/3 - 2s - loss: 0.0031 - accuracy: 1.0000 - 2s/epoch - 764ms/step\n",
            "Epoch 38/100\n",
            "3/3 - 2s - loss: 0.0114 - accuracy: 1.0000 - 2s/epoch - 760ms/step\n",
            "Epoch 39/100\n",
            "3/3 - 3s - loss: 0.0029 - accuracy: 1.0000 - 3s/epoch - 1s/step\n",
            "Epoch 40/100\n",
            "3/3 - 2s - loss: 0.0159 - accuracy: 1.0000 - 2s/epoch - 759ms/step\n",
            "Epoch 41/100\n",
            "3/3 - 2s - loss: 0.0028 - accuracy: 1.0000 - 2s/epoch - 743ms/step\n",
            "Epoch 42/100\n",
            "3/3 - 2s - loss: 0.0096 - accuracy: 1.0000 - 2s/epoch - 745ms/step\n",
            "Epoch 43/100\n",
            "3/3 - 2s - loss: 0.0029 - accuracy: 1.0000 - 2s/epoch - 766ms/step\n",
            "Epoch 44/100\n",
            "3/3 - 3s - loss: 0.0208 - accuracy: 0.9868 - 3s/epoch - 975ms/step\n",
            "Epoch 45/100\n",
            "3/3 - 2s - loss: 0.0025 - accuracy: 1.0000 - 2s/epoch - 749ms/step\n",
            "Epoch 46/100\n",
            "3/3 - 2s - loss: 0.0052 - accuracy: 1.0000 - 2s/epoch - 749ms/step\n",
            "Epoch 47/100\n",
            "3/3 - 2s - loss: 0.0054 - accuracy: 1.0000 - 2s/epoch - 747ms/step\n",
            "Epoch 48/100\n",
            "3/3 - 3s - loss: 0.0154 - accuracy: 1.0000 - 3s/epoch - 900ms/step\n",
            "Epoch 49/100\n",
            "3/3 - 2s - loss: 0.0050 - accuracy: 1.0000 - 2s/epoch - 736ms/step\n",
            "Epoch 50/100\n",
            "3/3 - 2s - loss: 0.0343 - accuracy: 0.9868 - 2s/epoch - 734ms/step\n",
            "Epoch 51/100\n",
            "3/3 - 2s - loss: 0.0338 - accuracy: 0.9737 - 2s/epoch - 768ms/step\n",
            "Epoch 52/100\n",
            "3/3 - 3s - loss: 0.0054 - accuracy: 1.0000 - 3s/epoch - 841ms/step\n",
            "Epoch 53/100\n",
            "3/3 - 3s - loss: 0.0128 - accuracy: 1.0000 - 3s/epoch - 994ms/step\n",
            "Epoch 54/100\n",
            "3/3 - 2s - loss: 0.0045 - accuracy: 1.0000 - 2s/epoch - 753ms/step\n",
            "Epoch 55/100\n",
            "3/3 - 2s - loss: 0.0031 - accuracy: 1.0000 - 2s/epoch - 737ms/step\n",
            "Epoch 56/100\n",
            "3/3 - 2s - loss: 0.0077 - accuracy: 1.0000 - 2s/epoch - 746ms/step\n",
            "Epoch 57/100\n",
            "3/3 - 2s - loss: 0.0114 - accuracy: 1.0000 - 2s/epoch - 800ms/step\n",
            "Epoch 58/100\n",
            "3/3 - 3s - loss: 0.0016 - accuracy: 1.0000 - 3s/epoch - 999ms/step\n",
            "Epoch 59/100\n",
            "3/3 - 2s - loss: 0.0057 - accuracy: 1.0000 - 2s/epoch - 755ms/step\n",
            "Epoch 60/100\n",
            "3/3 - 2s - loss: 0.0025 - accuracy: 1.0000 - 2s/epoch - 706ms/step\n",
            "Epoch 61/100\n",
            "3/3 - 2s - loss: 0.0036 - accuracy: 1.0000 - 2s/epoch - 731ms/step\n",
            "Epoch 62/100\n",
            "3/3 - 3s - loss: 0.0033 - accuracy: 1.0000 - 3s/epoch - 1s/step\n",
            "Epoch 63/100\n",
            "3/3 - 2s - loss: 0.0061 - accuracy: 1.0000 - 2s/epoch - 727ms/step\n",
            "Epoch 64/100\n",
            "3/3 - 2s - loss: 0.0085 - accuracy: 1.0000 - 2s/epoch - 752ms/step\n",
            "Epoch 65/100\n",
            "3/3 - 2s - loss: 0.0049 - accuracy: 1.0000 - 2s/epoch - 774ms/step\n",
            "Epoch 66/100\n",
            "3/3 - 2s - loss: 0.0072 - accuracy: 1.0000 - 2s/epoch - 737ms/step\n",
            "Epoch 67/100\n",
            "3/3 - 3s - loss: 0.0025 - accuracy: 1.0000 - 3s/epoch - 1s/step\n",
            "Epoch 68/100\n",
            "3/3 - 2s - loss: 0.0022 - accuracy: 1.0000 - 2s/epoch - 811ms/step\n",
            "Epoch 69/100\n",
            "3/3 - 2s - loss: 0.0049 - accuracy: 1.0000 - 2s/epoch - 734ms/step\n",
            "Epoch 70/100\n",
            "3/3 - 2s - loss: 0.0024 - accuracy: 1.0000 - 2s/epoch - 729ms/step\n",
            "Epoch 71/100\n",
            "3/3 - 2s - loss: 0.0022 - accuracy: 1.0000 - 2s/epoch - 756ms/step\n",
            "Epoch 72/100\n",
            "3/3 - 3s - loss: 0.0040 - accuracy: 1.0000 - 3s/epoch - 992ms/step\n",
            "Epoch 73/100\n",
            "3/3 - 2s - loss: 0.0075 - accuracy: 1.0000 - 2s/epoch - 734ms/step\n",
            "Epoch 74/100\n",
            "3/3 - 2s - loss: 0.0044 - accuracy: 1.0000 - 2s/epoch - 730ms/step\n",
            "Epoch 75/100\n",
            "3/3 - 2s - loss: 0.0198 - accuracy: 0.9868 - 2s/epoch - 738ms/step\n",
            "Epoch 76/100\n",
            "3/3 - 3s - loss: 0.0033 - accuracy: 1.0000 - 3s/epoch - 860ms/step\n",
            "Epoch 77/100\n",
            "3/3 - 2s - loss: 0.0145 - accuracy: 0.9868 - 2s/epoch - 739ms/step\n",
            "Epoch 78/100\n",
            "3/3 - 2s - loss: 0.0013 - accuracy: 1.0000 - 2s/epoch - 740ms/step\n",
            "Epoch 79/100\n",
            "3/3 - 2s - loss: 0.0044 - accuracy: 1.0000 - 2s/epoch - 730ms/step\n",
            "Epoch 80/100\n",
            "3/3 - 3s - loss: 0.0070 - accuracy: 1.0000 - 3s/epoch - 834ms/step\n",
            "Epoch 81/100\n",
            "3/3 - 3s - loss: 0.0027 - accuracy: 1.0000 - 3s/epoch - 988ms/step\n",
            "Epoch 82/100\n",
            "3/3 - 2s - loss: 0.0033 - accuracy: 1.0000 - 2s/epoch - 736ms/step\n",
            "Epoch 83/100\n",
            "3/3 - 2s - loss: 0.0010 - accuracy: 1.0000 - 2s/epoch - 760ms/step\n",
            "Epoch 84/100\n",
            "3/3 - 2s - loss: 0.0014 - accuracy: 1.0000 - 2s/epoch - 741ms/step\n",
            "Epoch 85/100\n",
            "3/3 - 2s - loss: 0.0024 - accuracy: 1.0000 - 2s/epoch - 745ms/step\n",
            "Epoch 86/100\n",
            "3/3 - 3s - loss: 0.0012 - accuracy: 1.0000 - 3s/epoch - 1s/step\n",
            "Epoch 87/100\n",
            "3/3 - 2s - loss: 0.0015 - accuracy: 1.0000 - 2s/epoch - 755ms/step\n",
            "Epoch 88/100\n",
            "3/3 - 2s - loss: 0.0017 - accuracy: 1.0000 - 2s/epoch - 737ms/step\n",
            "Epoch 89/100\n",
            "3/3 - 2s - loss: 0.0017 - accuracy: 1.0000 - 2s/epoch - 768ms/step\n",
            "Epoch 90/100\n",
            "3/3 - 2s - loss: 0.0088 - accuracy: 1.0000 - 2s/epoch - 748ms/step\n",
            "Epoch 91/100\n",
            "3/3 - 3s - loss: 0.0031 - accuracy: 1.0000 - 3s/epoch - 1s/step\n",
            "Epoch 92/100\n",
            "3/3 - 2s - loss: 0.0123 - accuracy: 0.9868 - 2s/epoch - 746ms/step\n",
            "Epoch 93/100\n",
            "3/3 - 3s - loss: 0.0013 - accuracy: 1.0000 - 3s/epoch - 1s/step\n",
            "Epoch 94/100\n",
            "3/3 - 2s - loss: 0.0024 - accuracy: 1.0000 - 2s/epoch - 787ms/step\n",
            "Epoch 95/100\n",
            "3/3 - 3s - loss: 0.0144 - accuracy: 1.0000 - 3s/epoch - 1s/step\n",
            "Epoch 96/100\n",
            "3/3 - 2s - loss: 0.0198 - accuracy: 0.9868 - 2s/epoch - 741ms/step\n",
            "Epoch 97/100\n",
            "3/3 - 2s - loss: 0.0363 - accuracy: 0.9868 - 2s/epoch - 757ms/step\n",
            "Epoch 98/100\n",
            "3/3 - 2s - loss: 0.0047 - accuracy: 1.0000 - 2s/epoch - 734ms/step\n",
            "Epoch 99/100\n",
            "3/3 - 2s - loss: 0.0023 - accuracy: 1.0000 - 2s/epoch - 736ms/step\n",
            "Epoch 100/100\n",
            "3/3 - 3s - loss: 0.0066 - accuracy: 1.0000 - 3s/epoch - 1s/step\n"
          ]
        },
        {
          "output_type": "execute_result",
          "data": {
            "text/plain": [
              "<keras.src.callbacks.History at 0x7cdde047d0c0>"
            ]
          },
          "metadata": {},
          "execution_count": 12
        }
      ]
    },
    {
      "cell_type": "markdown",
      "metadata": {
        "id": "HEWaMwnQ3fxV"
      },
      "source": [
        "## 5. Evaluation"
      ]
    },
    {
      "cell_type": "code",
      "execution_count": null,
      "metadata": {
        "id": "l0DFcyLZ37bR",
        "colab": {
          "base_uri": "https://localhost:8080/"
        },
        "outputId": "fdc105d1-152a-43d7-b922-b446bdaa21c0"
      },
      "outputs": [
        {
          "output_type": "stream",
          "name": "stdout",
          "text": [
            "Labels dictionary {'Beagle': 0, 'Bernese Mountain Dog': 1, 'Chihuahua': 2, 'Corgi': 3, 'Dalmatian': 4, 'Doberman': 5, 'German Shepherd': 6, 'Golden Retriver': 7, 'Pomeranian': 8, 'Poodle': 9, 'Pug': 10, 'Rottweiler': 11, 'Siberian Husky': 12}\n"
          ]
        }
      ],
      "source": [
        "class_dictionary = test_set.class_indices\n",
        "print('Labels dictionary',class_dictionary)"
      ]
    },
    {
      "cell_type": "code",
      "execution_count": null,
      "metadata": {
        "id": "99JycZ43_uYQ",
        "colab": {
          "base_uri": "https://localhost:8080/"
        },
        "outputId": "3bac1174-70ba-419d-e76b-e3cbe71a7a21"
      },
      "outputs": [
        {
          "output_type": "stream",
          "name": "stdout",
          "text": [
            "3/3 [==============================] - 22s 10s/step\n"
          ]
        }
      ],
      "source": [
        "y_predicted = model.predict(test_set)"
      ]
    },
    {
      "cell_type": "code",
      "execution_count": null,
      "metadata": {
        "id": "hxco9HjJBjWB",
        "colab": {
          "base_uri": "https://localhost:8080/"
        },
        "outputId": "5da60faa-dd6a-4dd1-b363-7650f7790f39"
      },
      "outputs": [
        {
          "output_type": "execute_result",
          "data": {
            "text/plain": [
              "array([[9.99742329e-01, 5.03947786e-06, 1.21118701e-05, 2.06798959e-05,\n",
              "        8.62116485e-06, 2.49295190e-05, 8.36351319e-05, 5.79008774e-05,\n",
              "        6.89673425e-06, 2.92377645e-05, 6.45932744e-07, 5.16998853e-06,\n",
              "        2.86849058e-06],\n",
              "       [9.99902606e-01, 2.87839430e-06, 6.99680959e-06, 1.65101101e-05,\n",
              "        5.85453381e-06, 1.99011156e-05, 6.06272306e-06, 2.35560256e-05,\n",
              "        2.85336978e-06, 9.97014831e-06, 8.20987111e-07, 9.19598790e-07,\n",
              "        1.05898289e-06],\n",
              "       [9.99567926e-01, 5.86085207e-06, 3.09302195e-05, 1.13773509e-04,\n",
              "        1.99060687e-05, 8.29733617e-05, 1.62426913e-05, 1.19926517e-04,\n",
              "        9.19009199e-06, 2.59015960e-05, 2.48806759e-06, 1.74435149e-06,\n",
              "        3.20768936e-06],\n",
              "       [9.99338806e-01, 2.50533503e-05, 1.82707052e-04, 1.00290941e-04,\n",
              "        3.05474823e-05, 1.33262874e-04, 1.15877236e-04, 1.31640445e-05,\n",
              "        3.12643169e-05, 3.58880743e-06, 7.44956151e-06, 1.31075203e-05,\n",
              "        4.83477470e-06],\n",
              "       [9.99931812e-01, 1.28384891e-05, 4.34907588e-06, 1.48004929e-05,\n",
              "        3.64900814e-07, 1.85857825e-05, 1.60203108e-05, 4.48340217e-07,\n",
              "        1.55132241e-07, 3.00307249e-07, 3.26131691e-08, 1.81811366e-08,\n",
              "        2.07835512e-07],\n",
              "       [3.32678726e-04, 9.98237133e-01, 4.77238609e-05, 7.53963468e-06,\n",
              "        7.77507466e-06, 4.11380679e-05, 1.15860603e-03, 1.19685094e-04,\n",
              "        3.57058889e-06, 4.67853937e-07, 2.00010436e-05, 1.39179365e-05,\n",
              "        9.79363176e-06],\n",
              "       [2.50185576e-06, 9.99940634e-01, 2.37591530e-06, 5.71798591e-06,\n",
              "        2.90789421e-06, 2.42340457e-06, 3.81496920e-06, 1.62176784e-05,\n",
              "        3.84897902e-07, 3.58191670e-07, 1.50322367e-05, 4.41885220e-07,\n",
              "        7.19224909e-06],\n",
              "       [1.53120732e-06, 9.96691227e-01, 1.89191065e-04, 3.06356696e-06,\n",
              "        2.59176909e-06, 1.49383868e-05, 1.51266262e-03, 4.19251191e-05,\n",
              "        3.27917269e-06, 4.50428331e-07, 9.05966153e-05, 1.44572160e-03,\n",
              "        2.73036198e-06],\n",
              "       [4.35358788e-06, 9.99766290e-01, 1.00633406e-04, 1.83589618e-05,\n",
              "        3.40443944e-06, 1.93880351e-06, 1.17664313e-05, 2.09996088e-05,\n",
              "        3.00491160e-06, 8.33869706e-07, 3.12584853e-05, 4.91422588e-06,\n",
              "        3.22570158e-05],\n",
              "       [1.35563296e-05, 9.99655128e-01, 9.80277400e-06, 5.18774641e-06,\n",
              "        2.97150364e-05, 2.00745671e-05, 2.74778031e-05, 6.57996861e-05,\n",
              "        4.99548196e-06, 1.73201431e-06, 9.04018743e-05, 4.36480008e-07,\n",
              "        7.55455476e-05],\n",
              "       [3.02465679e-08, 1.02648102e-07, 9.99959707e-01, 2.21497453e-06,\n",
              "        3.68202890e-09, 9.50095568e-07, 3.58578404e-06, 1.05250777e-08,\n",
              "        8.14271118e-07, 1.85441351e-08, 3.23081476e-05, 1.91169196e-08,\n",
              "        2.49173496e-07],\n",
              "       [1.11665273e-07, 1.31408328e-07, 9.99949455e-01, 4.40137637e-06,\n",
              "        5.86035220e-09, 6.03694218e-07, 1.55607650e-05, 2.53482483e-07,\n",
              "        1.14707746e-06, 4.33059419e-08, 2.78319094e-05, 2.10541742e-07,\n",
              "        2.38375378e-07],\n",
              "       [7.31856244e-06, 6.21972868e-05, 9.35313940e-01, 6.06689416e-02,\n",
              "        6.39160248e-07, 1.09323973e-05, 4.26835497e-04, 7.50546533e-05,\n",
              "        3.20262858e-03, 4.75532215e-06, 1.83704717e-04, 2.80876452e-06,\n",
              "        4.03048398e-05],\n",
              "       [2.58703876e-05, 1.02366018e-03, 6.77627504e-01, 2.95468748e-01,\n",
              "        1.19947599e-05, 7.84046788e-05, 1.44838227e-03, 4.75676177e-04,\n",
              "        2.22655255e-02, 5.14862222e-05, 7.83057418e-04, 2.66135685e-05,\n",
              "        7.13028188e-04],\n",
              "       [8.14931909e-08, 3.95369710e-07, 9.99782503e-01, 1.30914732e-05,\n",
              "        4.65855550e-08, 7.60688579e-07, 4.25133021e-06, 2.55619199e-07,\n",
              "        1.76030924e-04, 2.01386499e-08, 1.52660214e-05, 4.86950462e-08,\n",
              "        7.17996272e-06],\n",
              "       [7.05966022e-06, 1.43842396e-06, 3.36990837e-04, 9.99611914e-01,\n",
              "        7.22377465e-08, 2.55893610e-07, 2.47819899e-05, 1.05704812e-05,\n",
              "        2.50830180e-06, 4.12789376e-08, 1.62652702e-06, 1.18596105e-07,\n",
              "        2.72153420e-06],\n",
              "       [2.04510411e-06, 5.43301951e-07, 1.86852994e-04, 9.98381495e-01,\n",
              "        7.07331083e-08, 2.25363308e-07, 1.41028839e-03, 9.41386770e-06,\n",
              "        3.32000013e-06, 1.46730006e-08, 5.00586339e-07, 4.46762058e-08,\n",
              "        5.21579568e-06],\n",
              "       [1.64719841e-05, 3.16563055e-05, 6.92794390e-04, 9.99030232e-01,\n",
              "        4.50182597e-07, 9.65610525e-07, 1.75150242e-04, 1.61795413e-06,\n",
              "        2.80867926e-06, 4.44597191e-07, 6.19756293e-06, 3.23435899e-07,\n",
              "        4.09171844e-05],\n",
              "       [3.11130643e-05, 1.31319402e-05, 5.94554258e-05, 9.99834180e-01,\n",
              "        9.58435180e-08, 2.11158795e-06, 4.55569825e-05, 2.21578466e-06,\n",
              "        9.51216464e-07, 6.36544939e-07, 5.99184023e-06, 1.14003079e-07,\n",
              "        4.49618028e-06],\n",
              "       [3.83071965e-05, 3.40003971e-05, 9.83886304e-04, 9.98573780e-01,\n",
              "        1.59432125e-06, 6.76425316e-06, 2.24057483e-04, 2.20102684e-05,\n",
              "        2.64467271e-05, 8.22773870e-07, 7.87198951e-06, 1.49546466e-07,\n",
              "        8.04238880e-05],\n",
              "       [9.82701749e-07, 3.09153002e-05, 4.98746886e-06, 5.43031831e-07,\n",
              "        9.99807298e-01, 2.98949763e-05, 1.91578183e-05, 2.50618941e-05,\n",
              "        2.35736206e-05, 5.39916664e-06, 2.03018953e-05, 1.41712362e-05,\n",
              "        1.76733301e-05],\n",
              "       [4.61220083e-07, 2.39523051e-05, 1.01724499e-05, 4.60342960e-07,\n",
              "        9.99520659e-01, 2.29923826e-04, 6.13679413e-06, 1.30564040e-05,\n",
              "        4.20882679e-05, 9.20465573e-06, 8.44753376e-05, 1.94404111e-05,\n",
              "        4.00193640e-05],\n",
              "       [1.76226185e-05, 6.86322688e-04, 3.73831208e-05, 7.86598139e-06,\n",
              "        9.96884286e-01, 1.27171908e-04, 1.08779735e-04, 5.36347623e-04,\n",
              "        1.29248874e-04, 3.21929983e-05, 3.13857832e-04, 3.52248229e-04,\n",
              "        7.66703393e-04],\n",
              "       [1.03332944e-07, 2.08034380e-05, 1.15067155e-06, 1.97718805e-07,\n",
              "        9.99878287e-01, 4.74902481e-05, 5.97159578e-06, 5.27008569e-06,\n",
              "        6.56547991e-06, 4.76060814e-06, 1.31596116e-05, 4.42497594e-06,\n",
              "        1.19007991e-05],\n",
              "       [6.24326231e-06, 1.63437508e-04, 1.19200831e-05, 4.40419967e-07,\n",
              "        9.98643935e-01, 5.81711007e-04, 1.77470807e-04, 1.44791527e-04,\n",
              "        5.47136005e-05, 1.62482884e-05, 1.47388273e-04, 1.48009240e-05,\n",
              "        3.69718546e-05],\n",
              "       [7.94989392e-05, 3.73738949e-05, 4.89965896e-04, 3.22456822e-06,\n",
              "        5.51539197e-05, 9.97328520e-01, 2.49745353e-04, 6.59541911e-06,\n",
              "        5.04500895e-06, 9.51427319e-06, 9.83445352e-05, 1.58594002e-03,\n",
              "        5.11316757e-05],\n",
              "       [8.70489202e-06, 3.72971408e-05, 1.56462222e-04, 3.66465019e-06,\n",
              "        7.77443984e-06, 9.99091864e-01, 3.63646132e-06, 6.51997084e-07,\n",
              "        1.21658752e-06, 2.25003032e-06, 5.47493655e-05, 6.27501402e-04,\n",
              "        4.18824811e-06],\n",
              "       [8.79295330e-05, 2.13031206e-04, 1.99012065e-04, 8.62043962e-05,\n",
              "        5.90073723e-05, 9.94936585e-01, 2.94194266e-04, 5.67710340e-05,\n",
              "        7.01226872e-06, 7.62492928e-05, 2.13520179e-04, 3.67394439e-03,\n",
              "        9.65273211e-05],\n",
              "       [3.25951878e-05, 2.07522044e-05, 3.29409726e-04, 1.32706032e-06,\n",
              "        2.62758331e-05, 9.24867988e-01, 2.55727937e-05, 4.07444350e-06,\n",
              "        2.24568794e-06, 4.03840477e-06, 1.01938640e-04, 7.45822266e-02,\n",
              "        1.54156771e-06],\n",
              "       [1.62924625e-05, 8.62760702e-04, 1.98211579e-04, 3.05483409e-05,\n",
              "        5.35603504e-05, 9.85045850e-01, 1.49982385e-04, 2.77194358e-05,\n",
              "        6.96025336e-06, 1.23417740e-05, 1.48231862e-03, 1.20898094e-02,\n",
              "        2.36722317e-05],\n",
              "       [1.89335438e-07, 7.05043476e-07, 2.04776661e-05, 4.09910434e-08,\n",
              "        1.15725953e-07, 4.13754918e-07, 9.99973536e-01, 1.39835925e-06,\n",
              "        3.25975037e-07, 2.13364455e-08, 7.07210461e-07, 8.84857400e-07,\n",
              "        1.11593920e-06],\n",
              "       [5.14916465e-09, 3.37878099e-08, 4.50452205e-07, 6.02006112e-10,\n",
              "        9.38795708e-10, 2.93517632e-09, 9.99999404e-01, 1.13178453e-08,\n",
              "        7.93574628e-09, 2.48052995e-10, 1.43245993e-08, 3.73107802e-08,\n",
              "        1.93754151e-08],\n",
              "       [1.35845461e-04, 3.99937198e-05, 6.88074564e-04, 4.76162143e-07,\n",
              "        1.39321473e-05, 4.16284718e-04, 9.94826376e-01, 1.63624866e-03,\n",
              "        1.65644364e-04, 6.77197659e-06, 3.35240213e-04, 1.72905158e-03,\n",
              "        6.04018715e-06],\n",
              "       [8.45531122e-06, 8.78964238e-06, 5.72024961e-04, 1.79626696e-07,\n",
              "        1.24013068e-05, 1.73042772e-05, 9.98901725e-01, 4.48534120e-05,\n",
              "        5.99882769e-05, 1.45652905e-06, 7.97323955e-05, 2.72251724e-04,\n",
              "        2.08712281e-05],\n",
              "       [2.21057476e-07, 9.25846598e-06, 8.90286683e-05, 5.07941280e-08,\n",
              "        9.22555898e-07, 1.31887532e-06, 9.99616027e-01, 1.11836853e-04,\n",
              "        8.70163876e-06, 9.31018249e-08, 1.30951943e-04, 1.92337247e-05,\n",
              "        1.23037726e-05],\n",
              "       [4.19944816e-04, 8.85356625e-04, 5.32471349e-05, 1.54480746e-03,\n",
              "        5.61122943e-05, 4.06380377e-06, 4.58482420e-04, 9.95700538e-01,\n",
              "        3.30393115e-04, 2.68092786e-04, 7.49480459e-05, 1.30731161e-04,\n",
              "        7.31958862e-05],\n",
              "       [4.28848341e-03, 1.13285903e-03, 8.86688102e-03, 6.95174746e-03,\n",
              "        1.24627561e-03, 5.44022769e-05, 8.95177387e-03, 8.14078629e-01,\n",
              "        1.30012333e-01, 6.78277900e-03, 1.30970841e-02, 3.30764567e-03,\n",
              "        1.22904789e-03],\n",
              "       [2.48642988e-04, 3.65097076e-04, 1.47622239e-04, 9.61455109e-04,\n",
              "        8.83156245e-05, 6.95558356e-06, 9.20727267e-04, 9.94839966e-01,\n",
              "        9.66657128e-04, 9.44609405e-04, 1.42019737e-04, 3.05076072e-04,\n",
              "        6.28060297e-05],\n",
              "       [1.37083596e-04, 4.05757019e-04, 3.11932527e-04, 6.43213629e-04,\n",
              "        3.38079553e-05, 2.88988258e-06, 3.47003283e-04, 9.96400356e-01,\n",
              "        9.04958870e-04, 8.28670672e-05, 3.35204270e-04, 2.26937686e-04,\n",
              "        1.68087645e-04],\n",
              "       [1.83952437e-03, 5.76401653e-04, 2.54299608e-03, 1.43011948e-02,\n",
              "        5.67407478e-05, 1.77358714e-04, 1.16354646e-02, 9.66816902e-01,\n",
              "        5.08262194e-04, 1.99357295e-04, 8.81849905e-04, 3.86373547e-04,\n",
              "        7.76616143e-05],\n",
              "       [8.61484239e-07, 3.93853188e-05, 2.39906390e-03, 4.58012573e-06,\n",
              "        1.80022744e-05, 4.70329587e-06, 2.07927824e-05, 1.81613850e-05,\n",
              "        9.96521473e-01, 5.10588325e-05, 2.42095703e-04, 1.64493849e-05,\n",
              "        6.63506100e-04],\n",
              "       [1.67405767e-06, 1.82040390e-06, 3.26065754e-04, 2.96073777e-05,\n",
              "        3.26437566e-06, 7.48995546e-07, 2.06395693e-04, 6.96051866e-05,\n",
              "        9.97458279e-01, 1.74926936e-05, 1.82712369e-03, 3.09703364e-06,\n",
              "        5.47741765e-05],\n",
              "       [2.29155867e-05, 1.23347227e-05, 2.09444284e-01, 1.09903594e-04,\n",
              "        3.32293371e-06, 1.86080615e-05, 1.18103973e-03, 3.39376682e-04,\n",
              "        7.87353575e-01, 2.33185696e-04, 1.18290656e-03, 6.41488805e-05,\n",
              "        3.44701875e-05],\n",
              "       [2.77433332e-06, 2.22269373e-05, 5.24422992e-03, 1.09595392e-04,\n",
              "        7.38498329e-06, 1.67008584e-05, 4.92903273e-05, 1.01799946e-04,\n",
              "        9.93593872e-01, 2.58282817e-04, 5.40198002e-04, 8.32814112e-06,\n",
              "        4.52057757e-05],\n",
              "       [1.58229398e-06, 4.10005268e-05, 2.58787088e-02, 1.99260307e-04,\n",
              "        2.07487301e-05, 3.48765479e-06, 2.29443438e-04, 3.17981430e-05,\n",
              "        9.72833037e-01, 1.21468793e-05, 2.88206531e-04, 1.73217850e-05,\n",
              "        4.43121506e-04],\n",
              "       [6.31994056e-03, 1.00056548e-03, 6.18834095e-03, 3.62690422e-04,\n",
              "        2.21459381e-03, 2.92454264e-03, 7.36413058e-03, 7.67209288e-03,\n",
              "        2.37182174e-02, 9.36736763e-01, 1.93153974e-03, 1.95954577e-03,\n",
              "        1.60699827e-03],\n",
              "       [1.42754917e-03, 1.85313378e-03, 3.43746156e-04, 2.02702708e-04,\n",
              "        1.68991130e-04, 9.70351102e-04, 6.71246089e-03, 8.97773147e-01,\n",
              "        7.90847989e-04, 8.83290693e-02, 2.21117793e-04, 3.43988009e-04,\n",
              "        8.62911926e-04],\n",
              "       [5.35166191e-06, 1.67289472e-05, 4.18149057e-06, 1.81413998e-06,\n",
              "        2.71285353e-06, 8.78216360e-06, 2.43715986e-05, 1.95967114e-05,\n",
              "        2.30931455e-05, 9.99846578e-01, 3.66170971e-05, 1.21819528e-06,\n",
              "        8.99734732e-06],\n",
              "       [1.40695681e-06, 1.51298104e-06, 2.80251843e-05, 1.41032800e-07,\n",
              "        6.11049771e-08, 5.28051578e-06, 8.66578546e-07, 1.77169034e-06,\n",
              "        4.24227474e-05, 9.99743998e-01, 1.69849343e-04, 5.42407150e-08,\n",
              "        4.52113727e-06],\n",
              "       [2.89413292e-04, 1.62018314e-05, 9.17947909e-05, 9.30594342e-06,\n",
              "        8.27624945e-07, 3.16789112e-04, 6.14834571e-05, 1.95157227e-05,\n",
              "        1.43225207e-05, 9.99148369e-01, 2.18359055e-05, 5.11160260e-06,\n",
              "        5.08515268e-06],\n",
              "       [1.36789708e-07, 1.06285552e-05, 1.56741153e-04, 9.26275902e-07,\n",
              "        1.95496955e-06, 2.07672529e-05, 4.65908306e-05, 7.17009812e-07,\n",
              "        1.74779434e-05, 4.25380449e-06, 9.99691010e-01, 3.98990851e-05,\n",
              "        8.98356757e-06],\n",
              "       [2.14014221e-07, 3.97887288e-06, 7.46576052e-06, 5.58984937e-07,\n",
              "        5.92462584e-06, 3.52674542e-05, 1.01507703e-05, 4.63770704e-07,\n",
              "        1.36562030e-05, 1.33300068e-06, 9.99910474e-01, 8.50566721e-06,\n",
              "        2.06353889e-06],\n",
              "       [2.92114396e-06, 1.93688393e-05, 3.72865063e-04, 1.01895348e-05,\n",
              "        2.89217678e-06, 2.71210647e-05, 3.77098389e-04, 8.39425775e-06,\n",
              "        1.60455544e-04, 3.24977464e-06, 9.98951316e-01, 5.33189268e-05,\n",
              "        1.06604393e-05],\n",
              "       [2.67325640e-06, 7.56668887e-05, 8.11726859e-05, 8.23080245e-06,\n",
              "        3.49678194e-05, 4.66803722e-05, 2.21337937e-03, 8.67623676e-05,\n",
              "        2.53056147e-04, 2.14339834e-05, 9.96887505e-01, 2.41473841e-04,\n",
              "        4.69824154e-05],\n",
              "       [4.60521576e-09, 7.83591133e-07, 1.76880610e-06, 2.87324955e-08,\n",
              "        3.54692773e-08, 1.29707257e-06, 3.76272474e-05, 2.85929929e-07,\n",
              "        7.05172454e-07, 4.30144240e-07, 9.99955297e-01, 1.54097154e-06,\n",
              "        1.42328361e-07],\n",
              "       [1.35774108e-05, 3.85640282e-03, 1.11530465e-03, 1.14957238e-05,\n",
              "        6.02331638e-05, 2.90969431e-01, 5.10152488e-04, 1.87816768e-05,\n",
              "        1.78337632e-05, 9.46577802e-06, 3.04241874e-03, 7.00368881e-01,\n",
              "        6.02834189e-06],\n",
              "       [6.39026496e-07, 3.23189997e-05, 6.77268690e-06, 2.98162263e-07,\n",
              "        1.76873175e-06, 6.64520167e-06, 3.74177253e-05, 1.70646274e-06,\n",
              "        4.22093279e-07, 2.17994156e-07, 1.34206794e-05, 9.99897957e-01,\n",
              "        3.73277629e-07],\n",
              "       [1.41519777e-05, 2.02298939e-01, 4.53802932e-04, 8.08548939e-05,\n",
              "        5.96100726e-05, 8.04782845e-04, 1.16421434e-03, 3.75606789e-04,\n",
              "        2.37256450e-06, 2.21713097e-04, 3.65745509e-03, 7.90489614e-01,\n",
              "        3.76827229e-04],\n",
              "       [4.04535960e-08, 4.18291675e-05, 3.72724003e-06, 4.80622703e-07,\n",
              "        9.83025302e-07, 4.05261972e-06, 7.52253573e-06, 1.01844410e-06,\n",
              "        8.90820289e-08, 7.54397291e-08, 3.78973782e-05, 9.99901891e-01,\n",
              "        4.74378595e-07],\n",
              "       [4.21305259e-07, 5.89282790e-05, 5.84135387e-06, 7.40079713e-07,\n",
              "        4.07043490e-06, 1.00190628e-05, 4.20029937e-05, 5.66339486e-06,\n",
              "        1.23637460e-06, 2.62704901e-07, 1.98651196e-05, 9.99849916e-01,\n",
              "        9.16426757e-07],\n",
              "       [8.00593398e-07, 1.82084968e-05, 3.29021605e-05, 1.14198465e-05,\n",
              "        1.15271700e-06, 2.60386486e-07, 7.82348288e-05, 1.23236932e-05,\n",
              "        4.30131367e-05, 2.24927157e-06, 6.26233887e-05, 2.22068934e-06,\n",
              "        9.99734581e-01],\n",
              "       [5.55667357e-05, 7.70114420e-05, 2.48345956e-02, 8.73610377e-03,\n",
              "        1.44258329e-05, 1.05836170e-05, 6.53848425e-02, 6.82355487e-04,\n",
              "        7.09831202e-03, 8.61569333e-06, 3.07563762e-03, 3.32128329e-05,\n",
              "        8.89988720e-01],\n",
              "       [2.03641719e-07, 6.29449414e-06, 2.17675944e-04, 5.70631928e-05,\n",
              "        4.02050819e-06, 1.41875390e-07, 9.54196148e-05, 5.00897222e-05,\n",
              "        9.02560132e-04, 1.82485294e-07, 1.03142214e-04, 7.57967655e-07,\n",
              "        9.98562515e-01],\n",
              "       [7.95949109e-06, 5.96755744e-05, 5.48558193e-04, 1.45008904e-03,\n",
              "        8.39757922e-06, 1.20873929e-05, 1.51308937e-04, 6.30335489e-06,\n",
              "        3.81896331e-04, 2.41245689e-05, 2.37102795e-04, 1.92680600e-05,\n",
              "        9.97093201e-01],\n",
              "       [4.72629654e-05, 8.71576893e-04, 1.52153209e-01, 4.07772511e-02,\n",
              "        1.09731234e-04, 1.15036288e-04, 3.45533388e-03, 1.84303179e-04,\n",
              "        1.10743176e-02, 1.69494248e-04, 8.16027168e-03, 1.63425953e-04,\n",
              "        7.82718778e-01]], dtype=float32)"
            ]
          },
          "metadata": {},
          "execution_count": 15
        }
      ],
      "source": [
        "y_predicted"
      ]
    },
    {
      "cell_type": "code",
      "execution_count": null,
      "metadata": {
        "id": "SijWQZZ4DwNJ"
      },
      "outputs": [],
      "source": [
        "y_pred = []\n",
        "for i in y_predicted:\n",
        "  y_pred.append(np.argmax(i))"
      ]
    },
    {
      "cell_type": "code",
      "execution_count": null,
      "metadata": {
        "id": "BfBpncW0EDra",
        "colab": {
          "base_uri": "https://localhost:8080/"
        },
        "outputId": "001c1916-1c19-4fa1-ae4b-748bcc2829c8"
      },
      "outputs": [
        {
          "output_type": "execute_result",
          "data": {
            "text/plain": [
              "[0,\n",
              " 0,\n",
              " 0,\n",
              " 0,\n",
              " 0,\n",
              " 1,\n",
              " 1,\n",
              " 1,\n",
              " 1,\n",
              " 1,\n",
              " 2,\n",
              " 2,\n",
              " 2,\n",
              " 2,\n",
              " 2,\n",
              " 3,\n",
              " 3,\n",
              " 3,\n",
              " 3,\n",
              " 3,\n",
              " 4,\n",
              " 4,\n",
              " 4,\n",
              " 4,\n",
              " 4,\n",
              " 5,\n",
              " 5,\n",
              " 5,\n",
              " 5,\n",
              " 5,\n",
              " 6,\n",
              " 6,\n",
              " 6,\n",
              " 6,\n",
              " 6,\n",
              " 7,\n",
              " 7,\n",
              " 7,\n",
              " 7,\n",
              " 7,\n",
              " 8,\n",
              " 8,\n",
              " 8,\n",
              " 8,\n",
              " 8,\n",
              " 9,\n",
              " 7,\n",
              " 9,\n",
              " 9,\n",
              " 9,\n",
              " 10,\n",
              " 10,\n",
              " 10,\n",
              " 10,\n",
              " 10,\n",
              " 11,\n",
              " 11,\n",
              " 11,\n",
              " 11,\n",
              " 11,\n",
              " 12,\n",
              " 12,\n",
              " 12,\n",
              " 12,\n",
              " 12]"
            ]
          },
          "metadata": {},
          "execution_count": 17
        }
      ],
      "source": [
        "y_pred"
      ]
    },
    {
      "cell_type": "code",
      "execution_count": null,
      "metadata": {
        "id": "05WvuZEDEPm0",
        "colab": {
          "base_uri": "https://localhost:8080/"
        },
        "outputId": "41ca63b7-c2d6-4a75-cac1-a8c9adb2a512"
      },
      "outputs": [
        {
          "output_type": "execute_result",
          "data": {
            "text/plain": [
              "[0,\n",
              " 0,\n",
              " 0,\n",
              " 0,\n",
              " 0,\n",
              " 1,\n",
              " 1,\n",
              " 1,\n",
              " 1,\n",
              " 1,\n",
              " 2,\n",
              " 2,\n",
              " 2,\n",
              " 2,\n",
              " 2,\n",
              " 3,\n",
              " 3,\n",
              " 3,\n",
              " 3,\n",
              " 3,\n",
              " 4,\n",
              " 4,\n",
              " 4,\n",
              " 4,\n",
              " 4,\n",
              " 5,\n",
              " 5,\n",
              " 5,\n",
              " 5,\n",
              " 5,\n",
              " 6,\n",
              " 6,\n",
              " 6,\n",
              " 6,\n",
              " 6,\n",
              " 7,\n",
              " 7,\n",
              " 7,\n",
              " 7,\n",
              " 7,\n",
              " 8,\n",
              " 8,\n",
              " 8,\n",
              " 8,\n",
              " 8,\n",
              " 9,\n",
              " 9,\n",
              " 9,\n",
              " 9,\n",
              " 9,\n",
              " 10,\n",
              " 10,\n",
              " 10,\n",
              " 10,\n",
              " 10,\n",
              " 11,\n",
              " 11,\n",
              " 11,\n",
              " 11,\n",
              " 11,\n",
              " 12,\n",
              " 12,\n",
              " 12,\n",
              " 12,\n",
              " 12]"
            ]
          },
          "metadata": {},
          "execution_count": 18
        }
      ],
      "source": [
        "y_test = test_set.classes.tolist()\n",
        "y_test"
      ]
    },
    {
      "cell_type": "code",
      "execution_count": null,
      "metadata": {
        "id": "ANmTxs--E0aw",
        "colab": {
          "base_uri": "https://localhost:8080/"
        },
        "outputId": "1449be39-c962-4839-84f8-4c8d39251a8f"
      },
      "outputs": [
        {
          "output_type": "stream",
          "name": "stdout",
          "text": [
            "confusion_matrix\n",
            "[[5 0 0 0 0 0 0 0 0 0 0 0 0]\n",
            " [0 5 0 0 0 0 0 0 0 0 0 0 0]\n",
            " [0 0 5 0 0 0 0 0 0 0 0 0 0]\n",
            " [0 0 0 5 0 0 0 0 0 0 0 0 0]\n",
            " [0 0 0 0 5 0 0 0 0 0 0 0 0]\n",
            " [0 0 0 0 0 5 0 0 0 0 0 0 0]\n",
            " [0 0 0 0 0 0 5 0 0 0 0 0 0]\n",
            " [0 0 0 0 0 0 0 5 0 0 0 0 0]\n",
            " [0 0 0 0 0 0 0 0 5 0 0 0 0]\n",
            " [0 0 0 0 0 0 0 1 0 4 0 0 0]\n",
            " [0 0 0 0 0 0 0 0 0 0 5 0 0]\n",
            " [0 0 0 0 0 0 0 0 0 0 0 5 0]\n",
            " [0 0 0 0 0 0 0 0 0 0 0 0 5]]\n"
          ]
        }
      ],
      "source": [
        "#Confusion Matrix\n",
        "from sklearn.metrics import confusion_matrix\n",
        "confusion_matrix = confusion_matrix(y_test,y_pred)\n",
        "print('confusion_matrix')\n",
        "print(confusion_matrix)"
      ]
    },
    {
      "cell_type": "code",
      "execution_count": null,
      "metadata": {
        "id": "CKJU4ZACFCnq",
        "colab": {
          "base_uri": "https://localhost:8080/"
        },
        "outputId": "e4b7a4c3-560d-42b6-a5b7-2e4b303feccd"
      },
      "outputs": [
        {
          "output_type": "stream",
          "name": "stdout",
          "text": [
            "Accuracy Score 98.46153846153847 %\n",
            "Precision Macro Score  98.71794871794873 %\n",
            "Recall_Score 98.46153846153847 %\n",
            "F1_Score 98.44599844599846 %\n"
          ]
        }
      ],
      "source": [
        "from sklearn.metrics import accuracy_score, precision_score, f1_score, recall_score\n",
        "print('Accuracy Score',accuracy_score(y_test,y_pred)*100,'%')\n",
        "print('Precision Macro Score ',precision_score(y_test,y_pred,average = 'macro')*100,'%')\n",
        "print('Recall_Score',recall_score(y_test,y_pred, average = 'macro')*100,'%')\n",
        "print('F1_Score',f1_score(y_test,y_pred, average = 'macro')*100,'%')"
      ]
    },
    {
      "cell_type": "markdown",
      "source": [
        "## 6. LIME Explanation"
      ],
      "metadata": {
        "id": "Pb9fcLF_WB_9"
      }
    },
    {
      "cell_type": "code",
      "source": [
        "from tensorflow.keras.preprocessing import image\n",
        "\n",
        "img_path='/content/drive/MyDrive/Dog Breed Classification/Test/Corgi/Corgi test2.jpg'\n",
        "specific_img= image.load_img(img_path, target_size=(224, 224, 3))"
      ],
      "metadata": {
        "id": "E3W2wglaWBsp"
      },
      "execution_count": null,
      "outputs": []
    },
    {
      "cell_type": "code",
      "source": [
        "def predict_fn(images):\n",
        "  preprocessed_images = np.array([image.img_to_array(img) for img in images]) / 255.0\n",
        "  return model.predict(preprocessed_images)"
      ],
      "metadata": {
        "id": "DBFteIkVWYbp"
      },
      "execution_count": null,
      "outputs": []
    },
    {
      "cell_type": "code",
      "source": [
        "explainer =lime_image.LimeImageExplainer()"
      ],
      "metadata": {
        "id": "xnhTL9fKWeHV"
      },
      "execution_count": null,
      "outputs": []
    },
    {
      "cell_type": "code",
      "source": [
        "segmenter = SegmentationAlgorithm('quickshift', kernel_size=4, max_dis=150, ratio=0.2)"
      ],
      "metadata": {
        "id": "8utUaZ0edrzO"
      },
      "execution_count": null,
      "outputs": []
    },
    {
      "cell_type": "code",
      "source": [
        "explanation = explainer.explain_instance(\n",
        "    np.array(specific_img),\n",
        "    predict_fn,\n",
        "    top_labels = 5,\n",
        "    hide_color = 0,\n",
        "    num_samples = 100,\n",
        "    segmentation_fn = segmenter\n",
        ")"
      ],
      "metadata": {
        "id": "EmnDHpnsYONS",
        "colab": {
          "base_uri": "https://localhost:8080/",
          "height": 223,
          "referenced_widgets": [
            "03427e55d7854c4bb217d0d04ff5bbd3",
            "118b987235d84107a76d65c5a44060a8",
            "adc4d1e4cce646e389fbb665a15a9812",
            "7f8ec65679254f1d8f3d99aab5785386",
            "3adaf624de4f4ba9aa97e9f2a98cbf74",
            "b8018c852ab04744bd9b644200fd6465",
            "2b648d93beb242f69f7567fa0b0907d5",
            "5dd69f00ee4f41e49e732a2de386d66e",
            "f814b82efe3f4fd49a7a016d199f8219",
            "6077a4952efe45f291f94176dcb9bc48",
            "92cccb4134034ab18278cec0099a4c81"
          ]
        },
        "outputId": "42bde0d0-4840-4386-dca6-07ec0c903665"
      },
      "execution_count": null,
      "outputs": [
        {
          "output_type": "display_data",
          "data": {
            "text/plain": [
              "  0%|          | 0/100 [00:00<?, ?it/s]"
            ],
            "application/vnd.jupyter.widget-view+json": {
              "version_major": 2,
              "version_minor": 0,
              "model_id": "03427e55d7854c4bb217d0d04ff5bbd3"
            }
          },
          "metadata": {}
        },
        {
          "output_type": "stream",
          "name": "stdout",
          "text": [
            "1/1 [==============================] - 2s 2s/step\n",
            "1/1 [==============================] - 0s 42ms/step\n",
            "1/1 [==============================] - 0s 35ms/step\n",
            "1/1 [==============================] - 0s 37ms/step\n",
            "1/1 [==============================] - 0s 43ms/step\n",
            "1/1 [==============================] - 0s 40ms/step\n",
            "1/1 [==============================] - 0s 42ms/step\n",
            "1/1 [==============================] - 0s 44ms/step\n",
            "1/1 [==============================] - 0s 43ms/step\n",
            "1/1 [==============================] - 0s 43ms/step\n"
          ]
        }
      ]
    },
    {
      "cell_type": "code",
      "source": [
        "from skimage.segmentation import mark_boundaries\n",
        "import matplotlib.pyplot as plt"
      ],
      "metadata": {
        "id": "hoE4a29OYR_Z"
      },
      "execution_count": null,
      "outputs": []
    },
    {
      "cell_type": "code",
      "source": [
        "temp, mask = explanation.get_image_and_mask(\n",
        "    explanation.top_labels[0],\n",
        "    positive_only = True,\n",
        "    num_features = 5,\n",
        "    hide_rest = True\n",
        ")\n",
        "\n",
        "plt.imshow(mark_boundaries(temp / 2+0.5, mask))\n",
        "plt.axis('off')\n",
        "plt.title('LIME Explanation')\n",
        "plt.show()"
      ],
      "metadata": {
        "id": "i0U6_EYEabFa",
        "colab": {
          "base_uri": "https://localhost:8080/",
          "height": 445
        },
        "outputId": "2e8a85bf-2928-4d65-c366-95ad1bd8fac1"
      },
      "execution_count": null,
      "outputs": [
        {
          "output_type": "stream",
          "name": "stderr",
          "text": [
            "WARNING:matplotlib.image:Clipping input data to the valid range for imshow with RGB data ([0..1] for floats or [0..255] for integers).\n"
          ]
        },
        {
          "output_type": "display_data",
          "data": {
            "text/plain": [
              "<Figure size 640x480 with 1 Axes>"
            ],
            "image/png": "[encoded data removed]"
          },
          "metadata": {}
        }
      ]
    },
    {
      "cell_type": "markdown",
      "metadata": {
        "id": "KKjxXcCVFrQm"
      },
      "source": [
        "## 6. Model Saving"
      ]
    },
    {
      "cell_type": "code",
      "execution_count": null,
      "metadata": {
        "id": "6ZyuD95LF-Z0"
      },
      "outputs": [],
      "source": [
        "model.save('/content/drive/MyDrive/Trained Model.hdf5')"
      ]
    },
    {
      "cell_type": "code",
      "execution_count": null,
      "metadata": {
        "id": "EP3YHG0BGQA4"
      },
      "outputs": [],
      "source": [
        "saved_model=tf.keras.models.load_model('/content/drive/MyDrive/Trained Model.hdf5')"
      ]
    },
    {
      "cell_type": "code",
      "execution_count": null,
      "metadata": {
        "id": "ogQPX7LRG3X8"
      },
      "outputs": [],
      "source": [
        "saved_model.predict(test_set)"
      ]
    }
  ],
  "metadata": {
    "accelerator": "GPU",
    "colab": {
      "provenance": [],
      "gpuType": "T4",
      "include_colab_link": true
    },
    "kernelspec": {
      "display_name": "Python 3",
      "name": "python3"
    },
    "language_info": {
      "name": "python"
    },
    "widgets": {
      "application/vnd.jupyter.widget-state+json": {
        "03427e55d7854c4bb217d0d04ff5bbd3": {
          "model_module": "@jupyter-widgets/controls",
          "model_name": "HBoxModel",
          "model_module_version": "1.5.0",
          "state": {
            "_dom_classes": [],
            "_model_module": "@jupyter-widgets/controls",
            "_model_module_version": "1.5.0",
            "_model_name": "HBoxModel",
            "_view_count": null,
            "_view_module": "@jupyter-widgets/controls",
            "_view_module_version": "1.5.0",
            "_view_name": "HBoxView",
            "box_style": "",
            "children": [
              "IPY_MODEL_118b987235d84107a76d65c5a44060a8",
              "IPY_MODEL_adc4d1e4cce646e389fbb665a15a9812",
              "IPY_MODEL_7f8ec65679254f1d8f3d99aab5785386"
            ],
            "layout": "IPY_MODEL_3adaf624de4f4ba9aa97e9f2a98cbf74"
          }
        },
        "118b987235d84107a76d65c5a44060a8": {
          "model_module": "@jupyter-widgets/controls",
          "model_name": "HTMLModel",
          "model_module_version": "1.5.0",
          "state": {
            "_dom_classes": [],
            "_model_module": "@jupyter-widgets/controls",
            "_model_module_version": "1.5.0",
            "_model_name": "HTMLModel",
            "_view_count": null,
            "_view_module": "@jupyter-widgets/controls",
            "_view_module_version": "1.5.0",
            "_view_name": "HTMLView",
            "description": "",
            "description_tooltip": null,
            "layout": "IPY_MODEL_b8018c852ab04744bd9b644200fd6465",
            "placeholder": "​",
            "style": "IPY_MODEL_2b648d93beb242f69f7567fa0b0907d5",
            "value": "100%"
          }
        },
        "adc4d1e4cce646e389fbb665a15a9812": {
          "model_module": "@jupyter-widgets/controls",
          "model_name": "FloatProgressModel",
          "model_module_version": "1.5.0",
          "state": {
            "_dom_classes": [],
            "_model_module": "@jupyter-widgets/controls",
            "_model_module_version": "1.5.0",
            "_model_name": "FloatProgressModel",
            "_view_count": null,
            "_view_module": "@jupyter-widgets/controls",
            "_view_module_version": "1.5.0",
            "_view_name": "ProgressView",
            "bar_style": "success",
            "description": "",
            "description_tooltip": null,
            "layout": "IPY_MODEL_5dd69f00ee4f41e49e732a2de386d66e",
            "max": 100,
            "min": 0,
            "orientation": "horizontal",
            "style": "IPY_MODEL_f814b82efe3f4fd49a7a016d199f8219",
            "value": 100
          }
        },
        "7f8ec65679254f1d8f3d99aab5785386": {
          "model_module": "@jupyter-widgets/controls",
          "model_name": "HTMLModel",
          "model_module_version": "1.5.0",
          "state": {
            "_dom_classes": [],
            "_model_module": "@jupyter-widgets/controls",
            "_model_module_version": "1.5.0",
            "_model_name": "HTMLModel",
            "_view_count": null,
            "_view_module": "@jupyter-widgets/controls",
            "_view_module_version": "1.5.0",
            "_view_name": "HTMLView",
            "description": "",
            "description_tooltip": null,
            "layout": "IPY_MODEL_6077a4952efe45f291f94176dcb9bc48",
            "placeholder": "​",
            "style": "IPY_MODEL_92cccb4134034ab18278cec0099a4c81",
            "value": " 100/100 [00:03&lt;00:00, 50.09it/s]"
          }
        },
        "3adaf624de4f4ba9aa97e9f2a98cbf74": {
          "model_module": "@jupyter-widgets/base",
          "model_name": "LayoutModel",
          "model_module_version": "1.2.0",
          "state": {
            "_model_module": "@jupyter-widgets/base",
            "_model_module_version": "1.2.0",
            "_model_name": "LayoutModel",
            "_view_count": null,
            "_view_module": "@jupyter-widgets/base",
            "_view_module_version": "1.2.0",
            "_view_name": "LayoutView",
            "align_content": null,
            "align_items": null,
            "align_self": null,
            "border": null,
            "bottom": null,
            "display": null,
            "flex": null,
            "flex_flow": null,
            "grid_area": null,
            "grid_auto_columns": null,
            "grid_auto_flow": null,
            "grid_auto_rows": null,
            "grid_column": null,
            "grid_gap": null,
            "grid_row": null,
            "grid_template_areas": null,
            "grid_template_columns": null,
            "grid_template_rows": null,
            "height": null,
            "justify_content": null,
            "justify_items": null,
            "left": null,
            "margin": null,
            "max_height": null,
            "max_width": null,
            "min_height": null,
            "min_width": null,
            "object_fit": null,
            "object_position": null,
            "order": null,
            "overflow": null,
            "overflow_x": null,
            "overflow_y": null,
            "padding": null,
            "right": null,
            "top": null,
            "visibility": null,
            "width": null
          }
        },
        "b8018c852ab04744bd9b644200fd6465": {
          "model_module": "@jupyter-widgets/base",
          "model_name": "LayoutModel",
          "model_module_version": "1.2.0",
          "state": {
            "_model_module": "@jupyter-widgets/base",
            "_model_module_version": "1.2.0",
            "_model_name": "LayoutModel",
            "_view_count": null,
            "_view_module": "@jupyter-widgets/base",
            "_view_module_version": "1.2.0",
            "_view_name": "LayoutView",
            "align_content": null,
            "align_items": null,
            "align_self": null,
            "border": null,
            "bottom": null,
            "display": null,
            "flex": null,
            "flex_flow": null,
            "grid_area": null,
            "grid_auto_columns": null,
            "grid_auto_flow": null,
            "grid_auto_rows": null,
            "grid_column": null,
            "grid_gap": null,
            "grid_row": null,
            "grid_template_areas": null,
            "grid_template_columns": null,
            "grid_template_rows": null,
            "height": null,
            "justify_content": null,
            "justify_items": null,
            "left": null,
            "margin": null,
            "max_height": null,
            "max_width": null,
            "min_height": null,
            "min_width": null,
            "object_fit": null,
            "object_position": null,
            "order": null,
            "overflow": null,
            "overflow_x": null,
            "overflow_y": null,
            "padding": null,
            "right": null,
            "top": null,
            "visibility": null,
            "width": null
          }
        },
        "2b648d93beb242f69f7567fa0b0907d5": {
          "model_module": "@jupyter-widgets/controls",
          "model_name": "DescriptionStyleModel",
          "model_module_version": "1.5.0",
          "state": {
            "_model_module": "@jupyter-widgets/controls",
            "_model_module_version": "1.5.0",
            "_model_name": "DescriptionStyleModel",
            "_view_count": null,
            "_view_module": "@jupyter-widgets/base",
            "_view_module_version": "1.2.0",
            "_view_name": "StyleView",
            "description_width": ""
          }
        },
        "5dd69f00ee4f41e49e732a2de386d66e": {
          "model_module": "@jupyter-widgets/base",
          "model_name": "LayoutModel",
          "model_module_version": "1.2.0",
          "state": {
            "_model_module": "@jupyter-widgets/base",
            "_model_module_version": "1.2.0",
            "_model_name": "LayoutModel",
            "_view_count": null,
            "_view_module": "@jupyter-widgets/base",
            "_view_module_version": "1.2.0",
            "_view_name": "LayoutView",
            "align_content": null,
            "align_items": null,
            "align_self": null,
            "border": null,
            "bottom": null,
            "display": null,
            "flex": null,
            "flex_flow": null,
            "grid_area": null,
            "grid_auto_columns": null,
            "grid_auto_flow": null,
            "grid_auto_rows": null,
            "grid_column": null,
            "grid_gap": null,
            "grid_row": null,
            "grid_template_areas": null,
            "grid_template_columns": null,
            "grid_template_rows": null,
            "height": null,
            "justify_content": null,
            "justify_items": null,
            "left": null,
            "margin": null,
            "max_height": null,
            "max_width": null,
            "min_height": null,
            "min_width": null,
            "object_fit": null,
            "object_position": null,
            "order": null,
            "overflow": null,
            "overflow_x": null,
            "overflow_y": null,
            "padding": null,
            "right": null,
            "top": null,
            "visibility": null,
            "width": null
          }
        },
        "f814b82efe3f4fd49a7a016d199f8219": {
          "model_module": "@jupyter-widgets/controls",
          "model_name": "ProgressStyleModel",
          "model_module_version": "1.5.0",
          "state": {
            "_model_module": "@jupyter-widgets/controls",
            "_model_module_version": "1.5.0",
            "_model_name": "ProgressStyleModel",
            "_view_count": null,
            "_view_module": "@jupyter-widgets/base",
            "_view_module_version": "1.2.0",
            "_view_name": "StyleView",
            "bar_color": null,
            "description_width": ""
          }
        },
        "6077a4952efe45f291f94176dcb9bc48": {
          "model_module": "@jupyter-widgets/base",
          "model_name": "LayoutModel",
          "model_module_version": "1.2.0",
          "state": {
            "_model_module": "@jupyter-widgets/base",
            "_model_module_version": "1.2.0",
            "_model_name": "LayoutModel",
            "_view_count": null,
            "_view_module": "@jupyter-widgets/base",
            "_view_module_version": "1.2.0",
            "_view_name": "LayoutView",
            "align_content": null,
            "align_items": null,
            "align_self": null,
            "border": null,
            "bottom": null,
            "display": null,
            "flex": null,
            "flex_flow": null,
            "grid_area": null,
            "grid_auto_columns": null,
            "grid_auto_flow": null,
            "grid_auto_rows": null,
            "grid_column": null,
            "grid_gap": null,
            "grid_row": null,
            "grid_template_areas": null,
            "grid_template_columns": null,
            "grid_template_rows": null,
            "height": null,
            "justify_content": null,
            "justify_items": null,
            "left": null,
            "margin": null,
            "max_height": null,
            "max_width": null,
            "min_height": null,
            "min_width": null,
            "object_fit": null,
            "object_position": null,
            "order": null,
            "overflow": null,
            "overflow_x": null,
            "overflow_y": null,
            "padding": null,
            "right": null,
            "top": null,
            "visibility": null,
            "width": null
          }
        },
        "92cccb4134034ab18278cec0099a4c81": {
          "model_module": "@jupyter-widgets/controls",
          "model_name": "DescriptionStyleModel",
          "model_module_version": "1.5.0",
          "state": {
            "_model_module": "@jupyter-widgets/controls",
            "_model_module_version": "1.5.0",
            "_model_name": "DescriptionStyleModel",
            "_view_count": null,
            "_view_module": "@jupyter-widgets/base",
            "_view_module_version": "1.2.0",
            "_view_name": "StyleView",
            "description_width": ""
          }
        }
      }
    }
  },
  "nbformat": 4,
  "nbformat_minor": 0
}